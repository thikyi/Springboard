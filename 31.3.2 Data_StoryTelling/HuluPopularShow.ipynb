{
 "cells": [
  {
   "cell_type": "markdown",
   "id": "87cd1f3b",
   "metadata": {},
   "source": [
    "## Data Analysis"
   ]
  },
  {
   "cell_type": "markdown",
   "id": "3271935e",
   "metadata": {},
   "source": [
    "Content Analysis: The dataset provides details on various show attributes such as genre, release year, duration, and availability region. Content creators and producers can utilize this data to identify popular genres or themes that are currently in demand among Hulu's user base. It can help them make informed decisions about what type of content to produce or pitch to the platform.\n",
    "</br>\n",
    "Data-Source: https://www.kaggle.com/datasets/thedevastator/hulu-popular-shows-dataset\n",
    "</br>\n",
    "Data-Source Credit To:https://data.world/chasewillden\n",
    "</br>"
   ]
  },
  {
   "cell_type": "markdown",
   "id": "95701f60",
   "metadata": {},
   "source": [
    "### Import Libaries"
   ]
  },
  {
   "cell_type": "code",
   "execution_count": 1,
   "id": "5a9809e0",
   "metadata": {},
   "outputs": [],
   "source": [
    "import pandas as pd\n",
    "import numpy as np\n",
    "import matplotlib.pyplot as plt\n",
    "import seaborn as sns"
   ]
  },
  {
   "cell_type": "markdown",
   "id": "86253ad1",
   "metadata": {},
   "source": [
    "### Load Data"
   ]
  },
  {
   "cell_type": "code",
   "execution_count": 2,
   "id": "69f43559",
   "metadata": {},
   "outputs": [],
   "source": [
    "file_path = 'HuluRaw.csv'\n",
    "hulu_data = pd.read_csv(file_path)"
   ]
  },
  {
   "cell_type": "code",
   "execution_count": 3,
   "id": "e63b0951",
   "metadata": {},
   "outputs": [
    {
     "data": {
      "text/html": [
       "<div>\n",
       "<style scoped>\n",
       "    .dataframe tbody tr th:only-of-type {\n",
       "        vertical-align: middle;\n",
       "    }\n",
       "\n",
       "    .dataframe tbody tr th {\n",
       "        vertical-align: top;\n",
       "    }\n",
       "\n",
       "    .dataframe thead th {\n",
       "        text-align: right;\n",
       "    }\n",
       "</style>\n",
       "<table border=\"1\" class=\"dataframe\">\n",
       "  <thead>\n",
       "    <tr style=\"text-align: right;\">\n",
       "      <th></th>\n",
       "      <th>index</th>\n",
       "      <th>show/id</th>\n",
       "      <th>show/cache_time</th>\n",
       "      <th>show/canonical_name</th>\n",
       "      <th>show/clips_count</th>\n",
       "      <th>show/description</th>\n",
       "      <th>show/episodes_count</th>\n",
       "      <th>show/feature_films_count</th>\n",
       "      <th>show/film_clips_count</th>\n",
       "      <th>show/genre</th>\n",
       "      <th>...</th>\n",
       "      <th>show/show_rollups/showtime/html5_games_count</th>\n",
       "      <th>show/show_rollups/showtime/html5_feature_films_count</th>\n",
       "      <th>show/show_rollups/showtime/html5_film_clips_count</th>\n",
       "      <th>show/show_rollups/showtime/html5_film_trailers_count</th>\n",
       "      <th>show/show_rollups/showtime/html5_videos_count</th>\n",
       "      <th>show/show_rollups/showtime/non_rating_videos_count</th>\n",
       "      <th>show/show_rollups/showtime/highest_rating</th>\n",
       "      <th>show/annotations/0</th>\n",
       "      <th>show/annotations/1</th>\n",
       "      <th>Unnamed: 181</th>\n",
       "    </tr>\n",
       "  </thead>\n",
       "  <tbody>\n",
       "    <tr>\n",
       "      <th>0</th>\n",
       "      <td>0</td>\n",
       "      <td>54</td>\n",
       "      <td>2017-08-10T14:53:04+00:00</td>\n",
       "      <td>family-guy</td>\n",
       "      <td>288</td>\n",
       "      <td>The adventures of an endearingly ignorant dad ...</td>\n",
       "      <td>288</td>\n",
       "      <td>0</td>\n",
       "      <td>0</td>\n",
       "      <td>Animation and Cartoons</td>\n",
       "      <td>...</td>\n",
       "      <td>0</td>\n",
       "      <td>0</td>\n",
       "      <td>0</td>\n",
       "      <td>0</td>\n",
       "      <td>288</td>\n",
       "      <td>0</td>\n",
       "      <td>TV-MA</td>\n",
       "      <td>NaN</td>\n",
       "      <td>NaN</td>\n",
       "      <td>NaN</td>\n",
       "    </tr>\n",
       "    <tr>\n",
       "      <th>1</th>\n",
       "      <td>1</td>\n",
       "      <td>6979</td>\n",
       "      <td>2017-08-10T14:14:33+00:00</td>\n",
       "      <td>south-park</td>\n",
       "      <td>3874</td>\n",
       "      <td>Underpants-stealing gnomes, a talking Christma...</td>\n",
       "      <td>274</td>\n",
       "      <td>0</td>\n",
       "      <td>0</td>\n",
       "      <td>Comedy</td>\n",
       "      <td>...</td>\n",
       "      <td>0</td>\n",
       "      <td>0</td>\n",
       "      <td>0</td>\n",
       "      <td>0</td>\n",
       "      <td>4148</td>\n",
       "      <td>0</td>\n",
       "      <td>TV-MA</td>\n",
       "      <td>NaN</td>\n",
       "      <td>NaN</td>\n",
       "      <td>NaN</td>\n",
       "    </tr>\n",
       "    <tr>\n",
       "      <th>2</th>\n",
       "      <td>2</td>\n",
       "      <td>53</td>\n",
       "      <td>2017-08-10T14:46:51+00:00</td>\n",
       "      <td>american-dad</td>\n",
       "      <td>121</td>\n",
       "      <td>This screwball family full of radically differ...</td>\n",
       "      <td>172</td>\n",
       "      <td>0</td>\n",
       "      <td>0</td>\n",
       "      <td>Comedy</td>\n",
       "      <td>...</td>\n",
       "      <td>0</td>\n",
       "      <td>0</td>\n",
       "      <td>0</td>\n",
       "      <td>0</td>\n",
       "      <td>121</td>\n",
       "      <td>0</td>\n",
       "      <td>TV-14</td>\n",
       "      <td>NaN</td>\n",
       "      <td>NaN</td>\n",
       "      <td>NaN</td>\n",
       "    </tr>\n",
       "    <tr>\n",
       "      <th>3</th>\n",
       "      <td>3</td>\n",
       "      <td>389</td>\n",
       "      <td>2017-08-10T15:00:39+00:00</td>\n",
       "      <td>law-and-order-special-victims-unit</td>\n",
       "      <td>176</td>\n",
       "      <td>This hard-hitting and emotional series from NB...</td>\n",
       "      <td>406</td>\n",
       "      <td>0</td>\n",
       "      <td>0</td>\n",
       "      <td>Drama</td>\n",
       "      <td>...</td>\n",
       "      <td>0</td>\n",
       "      <td>0</td>\n",
       "      <td>0</td>\n",
       "      <td>0</td>\n",
       "      <td>176</td>\n",
       "      <td>0</td>\n",
       "      <td>TV-14</td>\n",
       "      <td>NaN</td>\n",
       "      <td>NaN</td>\n",
       "      <td>NaN</td>\n",
       "    </tr>\n",
       "    <tr>\n",
       "      <th>4</th>\n",
       "      <td>4</td>\n",
       "      <td>1603</td>\n",
       "      <td>2017-08-10T14:54:31+00:00</td>\n",
       "      <td>naruto-shippuden</td>\n",
       "      <td>16</td>\n",
       "      <td>The Village Hidden in the Leaves is home to th...</td>\n",
       "      <td>597</td>\n",
       "      <td>0</td>\n",
       "      <td>0</td>\n",
       "      <td>Anime</td>\n",
       "      <td>...</td>\n",
       "      <td>0</td>\n",
       "      <td>0</td>\n",
       "      <td>0</td>\n",
       "      <td>0</td>\n",
       "      <td>612</td>\n",
       "      <td>1</td>\n",
       "      <td>TV-14</td>\n",
       "      <td>NaN</td>\n",
       "      <td>NaN</td>\n",
       "      <td>NaN</td>\n",
       "    </tr>\n",
       "  </tbody>\n",
       "</table>\n",
       "<p>5 rows × 183 columns</p>\n",
       "</div>"
      ],
      "text/plain": [
       "   index  show/id            show/cache_time  \\\n",
       "0      0       54  2017-08-10T14:53:04+00:00   \n",
       "1      1     6979  2017-08-10T14:14:33+00:00   \n",
       "2      2       53  2017-08-10T14:46:51+00:00   \n",
       "3      3      389  2017-08-10T15:00:39+00:00   \n",
       "4      4     1603  2017-08-10T14:54:31+00:00   \n",
       "\n",
       "                  show/canonical_name  show/clips_count  \\\n",
       "0                          family-guy               288   \n",
       "1                          south-park              3874   \n",
       "2                        american-dad               121   \n",
       "3  law-and-order-special-victims-unit               176   \n",
       "4                    naruto-shippuden                16   \n",
       "\n",
       "                                    show/description  show/episodes_count  \\\n",
       "0  The adventures of an endearingly ignorant dad ...                  288   \n",
       "1  Underpants-stealing gnomes, a talking Christma...                  274   \n",
       "2  This screwball family full of radically differ...                  172   \n",
       "3  This hard-hitting and emotional series from NB...                  406   \n",
       "4  The Village Hidden in the Leaves is home to th...                  597   \n",
       "\n",
       "   show/feature_films_count  show/film_clips_count              show/genre  \\\n",
       "0                         0                      0  Animation and Cartoons   \n",
       "1                         0                      0                  Comedy   \n",
       "2                         0                      0                  Comedy   \n",
       "3                         0                      0                   Drama   \n",
       "4                         0                      0                   Anime   \n",
       "\n",
       "   ... show/show_rollups/showtime/html5_games_count  \\\n",
       "0  ...                                            0   \n",
       "1  ...                                            0   \n",
       "2  ...                                            0   \n",
       "3  ...                                            0   \n",
       "4  ...                                            0   \n",
       "\n",
       "   show/show_rollups/showtime/html5_feature_films_count  \\\n",
       "0                                                  0      \n",
       "1                                                  0      \n",
       "2                                                  0      \n",
       "3                                                  0      \n",
       "4                                                  0      \n",
       "\n",
       "   show/show_rollups/showtime/html5_film_clips_count  \\\n",
       "0                                                  0   \n",
       "1                                                  0   \n",
       "2                                                  0   \n",
       "3                                                  0   \n",
       "4                                                  0   \n",
       "\n",
       "   show/show_rollups/showtime/html5_film_trailers_count  \\\n",
       "0                                                  0      \n",
       "1                                                  0      \n",
       "2                                                  0      \n",
       "3                                                  0      \n",
       "4                                                  0      \n",
       "\n",
       "  show/show_rollups/showtime/html5_videos_count  \\\n",
       "0                                           288   \n",
       "1                                          4148   \n",
       "2                                           121   \n",
       "3                                           176   \n",
       "4                                           612   \n",
       "\n",
       "  show/show_rollups/showtime/non_rating_videos_count  \\\n",
       "0                                                  0   \n",
       "1                                                  0   \n",
       "2                                                  0   \n",
       "3                                                  0   \n",
       "4                                                  1   \n",
       "\n",
       "   show/show_rollups/showtime/highest_rating  show/annotations/0  \\\n",
       "0                                      TV-MA                 NaN   \n",
       "1                                      TV-MA                 NaN   \n",
       "2                                      TV-14                 NaN   \n",
       "3                                      TV-14                 NaN   \n",
       "4                                      TV-14                 NaN   \n",
       "\n",
       "   show/annotations/1 Unnamed: 181  \n",
       "0                 NaN          NaN  \n",
       "1                 NaN          NaN  \n",
       "2                 NaN          NaN  \n",
       "3                 NaN          NaN  \n",
       "4                 NaN          NaN  \n",
       "\n",
       "[5 rows x 183 columns]"
      ]
     },
     "execution_count": 3,
     "metadata": {},
     "output_type": "execute_result"
    }
   ],
   "source": [
    "hulu_data.head(5)"
   ]
  },
  {
   "cell_type": "code",
   "execution_count": 4,
   "id": "de3c5f9e",
   "metadata": {},
   "outputs": [
    {
     "name": "stdout",
     "output_type": "stream",
     "text": [
      "<class 'pandas.core.frame.DataFrame'>\n",
      "RangeIndex: 1000 entries, 0 to 999\n",
      "Columns: 183 entries, index to Unnamed: 181\n",
      "dtypes: bool(6), float64(3), int64(123), object(51)\n",
      "memory usage: 1.4+ MB\n"
     ]
    }
   ],
   "source": [
    "hulu_data.info()"
   ]
  },
  {
   "cell_type": "markdown",
   "id": "93a8753b",
   "metadata": {},
   "source": [
    "### Clean Data"
   ]
  },
  {
   "cell_type": "code",
   "execution_count": 5,
   "id": "a55f30d0",
   "metadata": {},
   "outputs": [],
   "source": [
    "# Drop columns that contain 'Unnamed'\n",
    "hulu_data = hulu_data.loc[:, ~hulu_data.columns.str.contains('^Unnamed')]"
   ]
  },
  {
   "cell_type": "code",
   "execution_count": 6,
   "id": "e3428deb",
   "metadata": {},
   "outputs": [],
   "source": [
    "# Drop columns that contain any NaN values\n",
    "hulu_data = hulu_data.dropna(axis=1, how='all')"
   ]
  },
  {
   "cell_type": "code",
   "execution_count": 7,
   "id": "1d0fb177",
   "metadata": {},
   "outputs": [],
   "source": [
    "# Drop columns that contain unnesary subset of master data.\n",
    "\n",
    "hulu_data = hulu_data.drop([col for col in hulu_data.columns if 'show_rollups' in col], axis=1)\n",
    "hulu_data = hulu_data.drop([col for col in hulu_data.columns if 'show_notes' in col], axis=1)\n",
    "hulu_data = hulu_data.drop([col for col in hulu_data.columns if 'annotations' in col], axis=1)\n",
    "\n",
    "# List of the other column names you want to drop\n",
    "columns_to_drop = ['show/company/key_art_url', 'show/company/network_logo_url', 'show/company/has_logo_url','show/link_description']\n",
    "hulu_data = hulu_data.drop(columns=columns_to_drop, axis=1)"
   ]
  },
  {
   "cell_type": "code",
   "execution_count": 8,
   "id": "2bac3ed7",
   "metadata": {
    "scrolled": true
   },
   "outputs": [
    {
     "data": {
      "text/html": [
       "<div>\n",
       "<style scoped>\n",
       "    .dataframe tbody tr th:only-of-type {\n",
       "        vertical-align: middle;\n",
       "    }\n",
       "\n",
       "    .dataframe tbody tr th {\n",
       "        vertical-align: top;\n",
       "    }\n",
       "\n",
       "    .dataframe thead th {\n",
       "        text-align: right;\n",
       "    }\n",
       "</style>\n",
       "<table border=\"1\" class=\"dataframe\">\n",
       "  <thead>\n",
       "    <tr style=\"text-align: right;\">\n",
       "      <th></th>\n",
       "      <th>count</th>\n",
       "      <th>%</th>\n",
       "    </tr>\n",
       "  </thead>\n",
       "  <tbody>\n",
       "    <tr>\n",
       "      <th>index</th>\n",
       "      <td>0</td>\n",
       "      <td>0.0</td>\n",
       "    </tr>\n",
       "    <tr>\n",
       "      <th>show/company/name</th>\n",
       "      <td>0</td>\n",
       "      <td>0.0</td>\n",
       "    </tr>\n",
       "    <tr>\n",
       "      <th>show/company/channel_id</th>\n",
       "      <td>0</td>\n",
       "      <td>0.0</td>\n",
       "    </tr>\n",
       "    <tr>\n",
       "      <th>show/company/id</th>\n",
       "      <td>0</td>\n",
       "      <td>0.0</td>\n",
       "    </tr>\n",
       "    <tr>\n",
       "      <th>show/available_package_ids</th>\n",
       "      <td>0</td>\n",
       "      <td>0.0</td>\n",
       "    </tr>\n",
       "    <tr>\n",
       "      <th>show/is_web_only</th>\n",
       "      <td>0</td>\n",
       "      <td>0.0</td>\n",
       "    </tr>\n",
       "    <tr>\n",
       "      <th>show/is_coppa</th>\n",
       "      <td>0</td>\n",
       "      <td>0.0</td>\n",
       "    </tr>\n",
       "    <tr>\n",
       "      <th>show/availability/2</th>\n",
       "      <td>0</td>\n",
       "      <td>0.0</td>\n",
       "    </tr>\n",
       "    <tr>\n",
       "      <th>show/availability/1</th>\n",
       "      <td>0</td>\n",
       "      <td>0.0</td>\n",
       "    </tr>\n",
       "    <tr>\n",
       "      <th>show/availability/0</th>\n",
       "      <td>0</td>\n",
       "      <td>0.0</td>\n",
       "    </tr>\n",
       "    <tr>\n",
       "      <th>show/videos_count</th>\n",
       "      <td>0</td>\n",
       "      <td>0.0</td>\n",
       "    </tr>\n",
       "    <tr>\n",
       "      <th>show/type</th>\n",
       "      <td>0</td>\n",
       "      <td>0.0</td>\n",
       "    </tr>\n",
       "    <tr>\n",
       "      <th>show/key_art_url</th>\n",
       "      <td>0</td>\n",
       "      <td>0.0</td>\n",
       "    </tr>\n",
       "    <tr>\n",
       "      <th>show/thumbnail_url</th>\n",
       "      <td>0</td>\n",
       "      <td>0.0</td>\n",
       "    </tr>\n",
       "    <tr>\n",
       "      <th>show/series_id</th>\n",
       "      <td>0</td>\n",
       "      <td>0.0</td>\n",
       "    </tr>\n",
       "    <tr>\n",
       "      <th>show/company/short_name</th>\n",
       "      <td>0</td>\n",
       "      <td>0.0</td>\n",
       "    </tr>\n",
       "    <tr>\n",
       "      <th>show/seasons_count</th>\n",
       "      <td>0</td>\n",
       "      <td>0.0</td>\n",
       "    </tr>\n",
       "    <tr>\n",
       "      <th>show/name</th>\n",
       "      <td>0</td>\n",
       "      <td>0.0</td>\n",
       "    </tr>\n",
       "    <tr>\n",
       "      <th>show/is_subscriber_only</th>\n",
       "      <td>0</td>\n",
       "      <td>0.0</td>\n",
       "    </tr>\n",
       "    <tr>\n",
       "      <th>show/is_showtime_only</th>\n",
       "      <td>0</td>\n",
       "      <td>0.0</td>\n",
       "    </tr>\n",
       "    <tr>\n",
       "      <th>show/is_movie</th>\n",
       "      <td>0</td>\n",
       "      <td>0.0</td>\n",
       "    </tr>\n",
       "    <tr>\n",
       "      <th>show/genres</th>\n",
       "      <td>0</td>\n",
       "      <td>0.0</td>\n",
       "    </tr>\n",
       "    <tr>\n",
       "      <th>show/genre</th>\n",
       "      <td>0</td>\n",
       "      <td>0.0</td>\n",
       "    </tr>\n",
       "    <tr>\n",
       "      <th>show/film_clips_count</th>\n",
       "      <td>0</td>\n",
       "      <td>0.0</td>\n",
       "    </tr>\n",
       "    <tr>\n",
       "      <th>show/feature_films_count</th>\n",
       "      <td>0</td>\n",
       "      <td>0.0</td>\n",
       "    </tr>\n",
       "    <tr>\n",
       "      <th>show/episodes_count</th>\n",
       "      <td>0</td>\n",
       "      <td>0.0</td>\n",
       "    </tr>\n",
       "    <tr>\n",
       "      <th>show/description</th>\n",
       "      <td>0</td>\n",
       "      <td>0.0</td>\n",
       "    </tr>\n",
       "    <tr>\n",
       "      <th>show/clips_count</th>\n",
       "      <td>0</td>\n",
       "      <td>0.0</td>\n",
       "    </tr>\n",
       "    <tr>\n",
       "      <th>show/canonical_name</th>\n",
       "      <td>0</td>\n",
       "      <td>0.0</td>\n",
       "    </tr>\n",
       "    <tr>\n",
       "      <th>show/cache_time</th>\n",
       "      <td>0</td>\n",
       "      <td>0.0</td>\n",
       "    </tr>\n",
       "    <tr>\n",
       "      <th>show/id</th>\n",
       "      <td>0</td>\n",
       "      <td>0.0</td>\n",
       "    </tr>\n",
       "    <tr>\n",
       "      <th>show/rating</th>\n",
       "      <td>0</td>\n",
       "      <td>0.0</td>\n",
       "    </tr>\n",
       "    <tr>\n",
       "      <th>show/company/canonical_name</th>\n",
       "      <td>0</td>\n",
       "      <td>0.0</td>\n",
       "    </tr>\n",
       "  </tbody>\n",
       "</table>\n",
       "</div>"
      ],
      "text/plain": [
       "                             count    %\n",
       "index                            0  0.0\n",
       "show/company/name                0  0.0\n",
       "show/company/channel_id          0  0.0\n",
       "show/company/id                  0  0.0\n",
       "show/available_package_ids       0  0.0\n",
       "show/is_web_only                 0  0.0\n",
       "show/is_coppa                    0  0.0\n",
       "show/availability/2              0  0.0\n",
       "show/availability/1              0  0.0\n",
       "show/availability/0              0  0.0\n",
       "show/videos_count                0  0.0\n",
       "show/type                        0  0.0\n",
       "show/key_art_url                 0  0.0\n",
       "show/thumbnail_url               0  0.0\n",
       "show/series_id                   0  0.0\n",
       "show/company/short_name          0  0.0\n",
       "show/seasons_count               0  0.0\n",
       "show/name                        0  0.0\n",
       "show/is_subscriber_only          0  0.0\n",
       "show/is_showtime_only            0  0.0\n",
       "show/is_movie                    0  0.0\n",
       "show/genres                      0  0.0\n",
       "show/genre                       0  0.0\n",
       "show/film_clips_count            0  0.0\n",
       "show/feature_films_count         0  0.0\n",
       "show/episodes_count              0  0.0\n",
       "show/description                 0  0.0\n",
       "show/clips_count                 0  0.0\n",
       "show/canonical_name              0  0.0\n",
       "show/cache_time                  0  0.0\n",
       "show/id                          0  0.0\n",
       "show/rating                      0  0.0\n",
       "show/company/canonical_name      0  0.0"
      ]
     },
     "execution_count": 8,
     "metadata": {},
     "output_type": "execute_result"
    }
   ],
   "source": [
    "missing_data = pd.concat([hulu_data.isnull().sum(), 100 * hulu_data.isnull().mean()], axis=1)\n",
    "missing_data.columns=['count', '%']\n",
    "missing_data.sort_values(by=['count'])"
   ]
  },
  {
   "cell_type": "code",
   "execution_count": 9,
   "id": "b2382f01",
   "metadata": {
    "scrolled": false
   },
   "outputs": [
    {
     "name": "stdout",
     "output_type": "stream",
     "text": [
      "<class 'pandas.core.frame.DataFrame'>\n",
      "RangeIndex: 1000 entries, 0 to 999\n",
      "Data columns (total 33 columns):\n",
      " #   Column                       Non-Null Count  Dtype  \n",
      "---  ------                       --------------  -----  \n",
      " 0   index                        1000 non-null   int64  \n",
      " 1   show/id                      1000 non-null   int64  \n",
      " 2   show/cache_time              1000 non-null   object \n",
      " 3   show/canonical_name          1000 non-null   object \n",
      " 4   show/clips_count             1000 non-null   int64  \n",
      " 5   show/description             1000 non-null   object \n",
      " 6   show/episodes_count          1000 non-null   int64  \n",
      " 7   show/feature_films_count     1000 non-null   int64  \n",
      " 8   show/film_clips_count        1000 non-null   int64  \n",
      " 9   show/genre                   1000 non-null   object \n",
      " 10  show/genres                  1000 non-null   object \n",
      " 11  show/is_movie                1000 non-null   bool   \n",
      " 12  show/is_showtime_only        1000 non-null   bool   \n",
      " 13  show/is_subscriber_only      1000 non-null   bool   \n",
      " 14  show/name                    1000 non-null   object \n",
      " 15  show/rating                  1000 non-null   float64\n",
      " 16  show/seasons_count           1000 non-null   int64  \n",
      " 17  show/series_id               1000 non-null   int64  \n",
      " 18  show/thumbnail_url           1000 non-null   object \n",
      " 19  show/key_art_url             1000 non-null   object \n",
      " 20  show/type                    1000 non-null   object \n",
      " 21  show/videos_count            1000 non-null   int64  \n",
      " 22  show/availability/0          1000 non-null   object \n",
      " 23  show/availability/1          1000 non-null   object \n",
      " 24  show/availability/2          1000 non-null   object \n",
      " 25  show/is_coppa                1000 non-null   bool   \n",
      " 26  show/is_web_only             1000 non-null   bool   \n",
      " 27  show/available_package_ids   1000 non-null   object \n",
      " 28  show/company/id              1000 non-null   int64  \n",
      " 29  show/company/channel_id      1000 non-null   int64  \n",
      " 30  show/company/name            1000 non-null   object \n",
      " 31  show/company/short_name      1000 non-null   object \n",
      " 32  show/company/canonical_name  1000 non-null   object \n",
      "dtypes: bool(5), float64(1), int64(11), object(16)\n",
      "memory usage: 223.8+ KB\n"
     ]
    }
   ],
   "source": [
    "hulu_data.info()"
   ]
  },
  {
   "cell_type": "markdown",
   "id": "dae2cd82",
   "metadata": {},
   "source": [
    "### Explore Data"
   ]
  },
  {
   "cell_type": "markdown",
   "id": "b8983759",
   "metadata": {},
   "source": [
    "#### What are the Interesting Aspects and popularity analysis ?"
   ]
  },
  {
   "cell_type": "markdown",
   "id": "c3db738f",
   "metadata": {},
   "source": [
    "1.Number of shows per genre.</br>\n",
    "2.Number of shows per company."
   ]
  },
  {
   "cell_type": "code",
   "execution_count": 10,
   "id": "48918b1f",
   "metadata": {},
   "outputs": [],
   "source": [
    "genre_counts = hulu_data['show/genre'].value_counts()\n",
    "company_counts = hulu_data['show/company/short_name'].value_counts()"
   ]
  },
  {
   "cell_type": "code",
   "execution_count": 11,
   "id": "932dcc15",
   "metadata": {},
   "outputs": [
    {
     "data": {
      "text/plain": [
       "Text(0, 0.5, 'Genre')"
      ]
     },
     "execution_count": 11,
     "metadata": {},
     "output_type": "execute_result"
    },
    {
     "data": {
      "image/png": "[encoded data removed]",
      "text/plain": [
       "<Figure size 1080x432 with 1 Axes>"
      ]
     },
     "metadata": {
      "needs_background": "light"
     },
     "output_type": "display_data"
    }
   ],
   "source": [
    "\n",
    "# Plotting\n",
    "plt.figure(figsize=(15, 6))\n",
    "\n",
    "plt.subplot(1, 2, 1)\n",
    "sns.barplot(x=genre_counts.values, y=genre_counts.index)\n",
    "plt.title('Top Genres on Hulu')\n",
    "plt.xlabel('Number of Shows')\n",
    "plt.ylabel('Genre')\n"
   ]
  },
  {
   "cell_type": "code",
   "execution_count": 12,
   "id": "00656ec9",
   "metadata": {
    "scrolled": true
   },
   "outputs": [
    {
     "data": {
      "image/png": "[encoded data removed]",
      "text/plain": [
       "<Figure size 1080x432 with 1 Axes>"
      ]
     },
     "metadata": {
      "needs_background": "light"
     },
     "output_type": "display_data"
    }
   ],
   "source": [
    "plt.figure(figsize=(15, 6))\n",
    "sns.barplot(x=company_counts.values, y=company_counts.index)\n",
    "plt.title('Top Companies on Hulu')\n",
    "plt.xlabel('Number of Shows')\n",
    "plt.ylabel('Company')\n",
    "\n",
    "plt.tight_layout()\n",
    "plt.show()"
   ]
  },
  {
   "cell_type": "markdown",
   "id": "b882c8b4",
   "metadata": {},
   "source": [
    "#### What are the content trends based on genre and rating?"
   ]
  },
  {
   "cell_type": "markdown",
   "id": "b46b9860",
   "metadata": {},
   "source": [
    "1.The number of episodes per genre.</br>\n",
    "2.Popularity trends based on genre.</br>\n",
    "3.Popularity trends based on rating</br>"
   ]
  },
  {
   "cell_type": "code",
   "execution_count": 23,
   "id": "61e61b1c",
   "metadata": {
    "scrolled": false
   },
   "outputs": [
    {
     "data": {
      "text/plain": [
       "show/genre\n",
       "Anime                     484.859375\n",
       "Teen                      319.000000\n",
       "Science Fiction           214.000000\n",
       "Classics                  180.000000\n",
       "Family                    163.000000\n",
       "Kids                      127.957143\n",
       "Drama                      94.059041\n",
       "Health and Wellness        88.000000\n",
       "Animation and Cartoons     86.610526\n",
       "Comedy                     84.614286\n",
       "Name: show/episodes_count, dtype: float64"
      ]
     },
     "execution_count": 23,
     "metadata": {},
     "output_type": "execute_result"
    }
   ],
   "source": [
    "\n",
    "average_episodes_per_genre = hulu_data.groupby('show/genre')['show/episodes_count'].mean().sort_values(ascending=False)\n",
    "average_episodes_per_genre.head(10)"
   ]
  },
  {
   "cell_type": "code",
   "execution_count": 26,
   "id": "07e3fd6c",
   "metadata": {
    "scrolled": true
   },
   "outputs": [
    {
     "data": {
      "text/plain": [
       "show/genre\n",
       "Action and Adventure      4.691890\n",
       "Classics                  4.591255\n",
       "Drama                     4.452419\n",
       "Comedy                    4.387118\n",
       "Science Fiction           4.315301\n",
       "Anime                     4.229743\n",
       "Food                      4.217084\n",
       "Animation and Cartoons    4.013294\n",
       "Teen                      4.002238\n",
       "Family                    3.905828\n",
       "Kids                      3.896697\n",
       "Health and Wellness       3.884819\n",
       "Reality and Game Shows    3.681237\n",
       "News and Information      3.296686\n",
       "Name: show/rating, dtype: float64"
      ]
     },
     "execution_count": 26,
     "metadata": {},
     "output_type": "execute_result"
    }
   ],
   "source": [
    "\n",
    "average_rating_per_genre = hulu_data.groupby('show/genre')['show/rating'].mean().sort_values(ascending=False)\n",
    "average_rating_per_genre"
   ]
  },
  {
   "cell_type": "code",
   "execution_count": null,
   "id": "562406f8",
   "metadata": {},
   "outputs": [],
   "source": [
    "average_length_per_genre = hulu_data.groupby('show/genre')['show/rating'].mean().sort_values(ascending=False)\n",
    "average_length_per_genre"
   ]
  },
  {
   "cell_type": "code",
   "execution_count": 14,
   "id": "dd324a68",
   "metadata": {},
   "outputs": [],
   "source": [
    "# Preparing data for scatterplot - relationship between number of episodes and number of seasons\n",
    "scatter_data = hulu_data[['show/episodes_count', 'show/seasons_count']]"
   ]
  },
  {
   "cell_type": "code",
   "execution_count": 15,
   "id": "5b84deda",
   "metadata": {
    "scrolled": true
   },
   "outputs": [
    {
     "data": {
      "text/plain": [
       "Text(0.5, 0, 'Genre')"
      ]
     },
     "execution_count": 15,
     "metadata": {},
     "output_type": "execute_result"
    },
    {
     "data": {
      "image/png": "[encoded data removed]",
      "text/plain": [
       "<Figure size 1080x432 with 1 Axes>"
      ]
     },
     "metadata": {
      "needs_background": "light"
     },
     "output_type": "display_data"
    }
   ],
   "source": [
    "# Plotting\n",
    "plt.figure(figsize=(15, 6))\n",
    "\n",
    "sns.barplot(x=average_episodes_per_genre.values, y=average_episodes_per_genre.index)\n",
    "\n",
    "    \n",
    "plt.title('Average Number of Episodes per Genre')\n",
    "plt.ylabel('Average Number of Episodes')\n",
    "plt.xlabel('Genre')\n"
   ]
  },
  {
   "cell_type": "code",
   "execution_count": 16,
   "id": "950da942",
   "metadata": {},
   "outputs": [
    {
     "data": {
      "text/plain": [
       "Text(0, 0.5, 'Number of Genere')"
      ]
     },
     "execution_count": 16,
     "metadata": {},
     "output_type": "execute_result"
    },
    {
     "data": {
      "image/png": "[encoded data removed]",
      "text/plain": [
       "<Figure size 2160x720 with 1 Axes>"
      ]
     },
     "metadata": {
      "needs_background": "light"
     },
     "output_type": "display_data"
    }
   ],
   "source": [
    "plt.figure(figsize=(30,10))\n",
    "sns.barplot(data=hulu_data, x=hulu_data['show/genre'], y=hulu_data['show/episodes_count']) \n",
    "plt.title('Relationship Between Number of Episodes and Genere')\n",
    "plt.xlabel('Number of Episodes')\n",
    "plt.ylabel('Number of Genere')"
   ]
  },
  {
   "cell_type": "code",
   "execution_count": 21,
   "id": "d58f5bf8",
   "metadata": {
    "scrolled": true
   },
   "outputs": [
    {
     "data": {
      "image/png": "[encoded data removed]",
      "text/plain": [
       "<Figure size 720x432 with 1 Axes>"
      ]
     },
     "metadata": {
      "needs_background": "light"
     },
     "output_type": "display_data"
    }
   ],
   "source": [
    "plt.figure(figsize=(10, 6))\n",
    "sns.scatterplot(data=scatter_data, x='show/episodes_count', y='show/seasons_count', \n",
    "                marker='X',sizes=(20, 200), alpha=0.7)\n",
    "plt.grid(True, which='both', linestyle='--', linewidth=0.5)\n",
    "\n",
    "\n",
    "plt.title('Relationship Between Number of Episodes and Seasons')\n",
    "plt.xlabel('Number of Episodes')\n",
    "plt.ylabel('Number of Seasons')\n",
    "\n",
    "plt.tight_layout()\n",
    "plt.show()"
   ]
  },
  {
   "cell_type": "code",
   "execution_count": 25,
   "id": "60e76b6c",
   "metadata": {
    "scrolled": false
   },
   "outputs": [
    {
     "data": {
      "text/plain": [
       "Text(0.5, 0, 'Genre')"
      ]
     },
     "execution_count": 25,
     "metadata": {},
     "output_type": "execute_result"
    },
    {
     "data": {
      "image/png": "[encoded data removed]",
      "text/plain": [
       "<Figure size 1080x432 with 1 Axes>"
      ]
     },
     "metadata": {
      "needs_background": "light"
     },
     "output_type": "display_data"
    }
   ],
   "source": [
    "# Plotting\n",
    "plt.figure(figsize=(15, 6))\n",
    "\n",
    "sns.barplot(x=average_rating_per_genre.values, y=average_rating_per_genre.index)\n",
    "\n",
    "    \n",
    "plt.title('Average Rating per Genre')\n",
    "plt.ylabel('Average Rating out of 5')\n",
    "plt.xlabel('Genre')\n"
   ]
  },
  {
   "cell_type": "markdown",
   "id": "e46986ca",
   "metadata": {},
   "source": [
    "### Conclusion"
   ]
  },
  {
   "cell_type": "markdown",
   "id": "288ed055",
   "metadata": {},
   "source": [
    "This analysis shows the importance of understanding viewer preferences and industry trends to stay competitive in the rapidly evolving media landscape. Hulu and content creators should focus on a mix of popular and niche genres, consider long-term storytelling in series, leverage data for targeted content promotion, and remain open to emerging trends and technologies in content production and consumption. This balanced approach can help in effectively catering to a diverse and ever-changing audience, ensuring continued success and relevance in the streaming industry.\n",
    "\n",
    "\n",
    "\n",
    "\n",
    "\n",
    "\n",
    "\n"
   ]
  }
 ],
 "metadata": {
  "kernelspec": {
   "display_name": "Python 3 (ipykernel)",
   "language": "python",
   "name": "python3"
  },
  "language_info": {
   "codemirror_mode": {
    "name": "ipython",
    "version": 3
   },
   "file_extension": ".py",
   "mimetype": "text/x-python",
   "name": "python",
   "nbconvert_exporter": "python",
   "pygments_lexer": "ipython3",
   "version": "3.9.7"
  }
 },
 "nbformat": 4,
 "nbformat_minor": 5
}
